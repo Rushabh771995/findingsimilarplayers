{
  "nbformat": 4,
  "nbformat_minor": 0,
  "metadata": {
    "colab": {
      "name": "Similar Players.ipynb",
      "provenance": []
    },
    "kernelspec": {
      "name": "python3",
      "display_name": "Python 3"
    }
  },
  "cells": [
    {
      "cell_type": "markdown",
      "metadata": {
        "id": "IoQnVnHpP__F"
      },
      "source": [
        "# **Abstract:**\n",
        "\n",
        "Data Science has been an integral part of Sports Analysis and Machine learning has been the most helpful way in the mordern Cricket to provide the teams more insights about their performances with data analytics. In the following project our Data Science goal will be to use a clustering algorithm for finding replacements for similar players. After reading and cleaning the data this notebook's flow goes from the tranformations to modeling and results. The Players that were found to be the best replacement for Virat Kohli according to the following IPL statistics were Suresh Raina, Rohit Sharma and Gautam Gambhir."
      ]
    },
    {
      "cell_type": "markdown",
      "metadata": {
        "id": "CmoHjsXUR0O9"
      },
      "source": [
        "# **Business Problem**\n",
        "\n",
        "Indian Premier League is one of the biggest national cricket tournaments in the world. It has 8 teams in total each year and there is an auction for players every year. There is always an issue of injury in sports which calls for a player replacement. For Team management as a data scientist it is our duty to reduce this problem by providing them with a list of players for possible replacement.  We will use Clustering algorithm in this case to determine all players who can be a possible replacement for a player. In this case we will take the example of the Indian Team Captain Virat Kohli and try to find a replacement for him.  "
      ]
    },
    {
      "cell_type": "markdown",
      "metadata": {
        "id": "w_5IiiPDVQbE"
      },
      "source": [
        "# **Data Dictonary:**\n",
        "\n",
        "\n",
        "This data is of Indian Premier League from 2008 to year 2016. The Contributor in this case was HarshVardhan who uploaded this dataset on Kaggle. This data has insights for players for each deliveries which helps us have an indepth analysis for their strike rate and experience for the last 8 years.\n",
        "\n",
        "\n",
        "Source: http://cricsheet.org (data is available on this website in the YAML format. This is converted to CSV format by the contributors)\n",
        "\n",
        "\n",
        "Data Source and dictonary: https://www.kaggle.com/harsha547/indian-premier-league-csv-dataset\n",
        "\n",
        "We will be using three files which are Match.csv, Player.csv, and ball_by_ball.csv for this project. \n",
        "\n",
        "\n",
        "\n",
        "\n"
      ]
    },
    {
      "cell_type": "code",
      "metadata": {
        "id": "hNLCZiNS6U2U"
      },
      "source": [
        "#Importing the libaries required.\n",
        "\n",
        "import pandas as pd\n",
        "import numpy as np\n",
        "import matplotlib.pyplot as plt\n",
        "from sklearn.cluster import KMeans\n",
        "from sklearn.datasets import make_blobs\n",
        "from yellowbrick.cluster import KElbowVisualizer\n",
        "from sklearn.pipeline import Pipeline\n",
        "from sklearn.model_selection import GridSearchCV"
      ],
      "execution_count": 74,
      "outputs": []
    },
    {
      "cell_type": "code",
      "metadata": {
        "id": "Y3LEZaHo6XWH",
        "outputId": "3318ba63-6d4f-4548-b5ec-5eac0fe11407",
        "colab": {
          "base_uri": "https://localhost:8080/"
        }
      },
      "source": [
        "from google.colab import drive\n",
        "drive.mount('/content/drive')"
      ],
      "execution_count": 75,
      "outputs": [
        {
          "output_type": "stream",
          "text": [
            "Drive already mounted at /content/drive; to attempt to forcibly remount, call drive.mount(\"/content/drive\", force_remount=True).\n"
          ],
          "name": "stdout"
        }
      ]
    },
    {
      "cell_type": "markdown",
      "metadata": {
        "id": "i60qlqrpCkk6"
      },
      "source": [
        "# **Reading the Data.**"
      ]
    },
    {
      "cell_type": "code",
      "metadata": {
        "id": "mmryCzf26sjG",
        "outputId": "b501f412-6106-4e60-9c65-d802eaae255e",
        "colab": {
          "base_uri": "https://localhost:8080/",
          "height": 377
        }
      },
      "source": [
        "Match_df= pd.read_csv('/content/drive/My Drive/Match.csv')\n",
        "Match_df.head()"
      ],
      "execution_count": 76,
      "outputs": [
        {
          "output_type": "execute_result",
          "data": {
            "text/html": [
              "<div>\n",
              "<style scoped>\n",
              "    .dataframe tbody tr th:only-of-type {\n",
              "        vertical-align: middle;\n",
              "    }\n",
              "\n",
              "    .dataframe tbody tr th {\n",
              "        vertical-align: top;\n",
              "    }\n",
              "\n",
              "    .dataframe thead th {\n",
              "        text-align: right;\n",
              "    }\n",
              "</style>\n",
              "<table border=\"1\" class=\"dataframe\">\n",
              "  <thead>\n",
              "    <tr style=\"text-align: right;\">\n",
              "      <th></th>\n",
              "      <th>Match_Id</th>\n",
              "      <th>Match_Date</th>\n",
              "      <th>Team_Name_Id</th>\n",
              "      <th>Opponent_Team_Id</th>\n",
              "      <th>Season_Id</th>\n",
              "      <th>Venue_Name</th>\n",
              "      <th>Toss_Winner_Id</th>\n",
              "      <th>Toss_Decision</th>\n",
              "      <th>IS_Superover</th>\n",
              "      <th>IS_Result</th>\n",
              "      <th>Is_DuckWorthLewis</th>\n",
              "      <th>Win_Type</th>\n",
              "      <th>Won_By</th>\n",
              "      <th>Match_Winner_Id</th>\n",
              "      <th>Man_Of_The_Match_Id</th>\n",
              "      <th>First_Umpire_Id</th>\n",
              "      <th>Second_Umpire_Id</th>\n",
              "      <th>City_Name</th>\n",
              "      <th>Host_Country</th>\n",
              "    </tr>\n",
              "  </thead>\n",
              "  <tbody>\n",
              "    <tr>\n",
              "      <th>0</th>\n",
              "      <td>335987</td>\n",
              "      <td>18-Apr-08</td>\n",
              "      <td>2</td>\n",
              "      <td>1</td>\n",
              "      <td>1</td>\n",
              "      <td>M Chinnaswamy Stadium</td>\n",
              "      <td>2</td>\n",
              "      <td>field</td>\n",
              "      <td>0</td>\n",
              "      <td>1</td>\n",
              "      <td>0</td>\n",
              "      <td>by runs</td>\n",
              "      <td>140.0</td>\n",
              "      <td>1.0</td>\n",
              "      <td>2.0</td>\n",
              "      <td>470</td>\n",
              "      <td>477</td>\n",
              "      <td>Bangalore</td>\n",
              "      <td>India</td>\n",
              "    </tr>\n",
              "    <tr>\n",
              "      <th>1</th>\n",
              "      <td>335988</td>\n",
              "      <td>19-Apr-08</td>\n",
              "      <td>4</td>\n",
              "      <td>3</td>\n",
              "      <td>1</td>\n",
              "      <td>Punjab Cricket Association Stadium, Mohali</td>\n",
              "      <td>3</td>\n",
              "      <td>bat</td>\n",
              "      <td>0</td>\n",
              "      <td>1</td>\n",
              "      <td>0</td>\n",
              "      <td>by runs</td>\n",
              "      <td>33.0</td>\n",
              "      <td>3.0</td>\n",
              "      <td>19.0</td>\n",
              "      <td>471</td>\n",
              "      <td>487</td>\n",
              "      <td>Chandigarh</td>\n",
              "      <td>India</td>\n",
              "    </tr>\n",
              "    <tr>\n",
              "      <th>2</th>\n",
              "      <td>335989</td>\n",
              "      <td>19-Apr-08</td>\n",
              "      <td>6</td>\n",
              "      <td>5</td>\n",
              "      <td>1</td>\n",
              "      <td>Feroz Shah Kotla</td>\n",
              "      <td>5</td>\n",
              "      <td>bat</td>\n",
              "      <td>0</td>\n",
              "      <td>1</td>\n",
              "      <td>0</td>\n",
              "      <td>by wickets</td>\n",
              "      <td>9.0</td>\n",
              "      <td>6.0</td>\n",
              "      <td>90.0</td>\n",
              "      <td>472</td>\n",
              "      <td>512</td>\n",
              "      <td>Delhi</td>\n",
              "      <td>India</td>\n",
              "    </tr>\n",
              "    <tr>\n",
              "      <th>3</th>\n",
              "      <td>335990</td>\n",
              "      <td>20-Apr-08</td>\n",
              "      <td>7</td>\n",
              "      <td>2</td>\n",
              "      <td>1</td>\n",
              "      <td>Wankhede Stadium</td>\n",
              "      <td>7</td>\n",
              "      <td>bat</td>\n",
              "      <td>0</td>\n",
              "      <td>1</td>\n",
              "      <td>0</td>\n",
              "      <td>by wickets</td>\n",
              "      <td>5.0</td>\n",
              "      <td>2.0</td>\n",
              "      <td>11.0</td>\n",
              "      <td>473</td>\n",
              "      <td>476</td>\n",
              "      <td>Mumbai</td>\n",
              "      <td>India</td>\n",
              "    </tr>\n",
              "    <tr>\n",
              "      <th>4</th>\n",
              "      <td>335991</td>\n",
              "      <td>20-Apr-08</td>\n",
              "      <td>1</td>\n",
              "      <td>8</td>\n",
              "      <td>1</td>\n",
              "      <td>Eden Gardens</td>\n",
              "      <td>8</td>\n",
              "      <td>bat</td>\n",
              "      <td>0</td>\n",
              "      <td>1</td>\n",
              "      <td>0</td>\n",
              "      <td>by wickets</td>\n",
              "      <td>5.0</td>\n",
              "      <td>1.0</td>\n",
              "      <td>4.0</td>\n",
              "      <td>474</td>\n",
              "      <td>486</td>\n",
              "      <td>Kolkata</td>\n",
              "      <td>India</td>\n",
              "    </tr>\n",
              "  </tbody>\n",
              "</table>\n",
              "</div>"
            ],
            "text/plain": [
              "   Match_Id Match_Date  Team_Name_Id  ...  Second_Umpire_Id   City_Name Host_Country\n",
              "0    335987  18-Apr-08             2  ...               477   Bangalore        India\n",
              "1    335988  19-Apr-08             4  ...               487  Chandigarh        India\n",
              "2    335989  19-Apr-08             6  ...               512       Delhi        India\n",
              "3    335990  20-Apr-08             7  ...               476      Mumbai        India\n",
              "4    335991  20-Apr-08             1  ...               486     Kolkata        India\n",
              "\n",
              "[5 rows x 19 columns]"
            ]
          },
          "metadata": {
            "tags": []
          },
          "execution_count": 76
        }
      ]
    },
    {
      "cell_type": "code",
      "metadata": {
        "id": "erg1wcJc7UR0",
        "outputId": "9af39253-35dc-4f48-faa3-5980a7690a4d",
        "colab": {
          "base_uri": "https://localhost:8080/",
          "height": 204
        }
      },
      "source": [
        "Player_df= pd.read_csv('/content/drive/My Drive/Player.csv')\n",
        "Player_df.head()"
      ],
      "execution_count": 77,
      "outputs": [
        {
          "output_type": "execute_result",
          "data": {
            "text/html": [
              "<div>\n",
              "<style scoped>\n",
              "    .dataframe tbody tr th:only-of-type {\n",
              "        vertical-align: middle;\n",
              "    }\n",
              "\n",
              "    .dataframe tbody tr th {\n",
              "        vertical-align: top;\n",
              "    }\n",
              "\n",
              "    .dataframe thead th {\n",
              "        text-align: right;\n",
              "    }\n",
              "</style>\n",
              "<table border=\"1\" class=\"dataframe\">\n",
              "  <thead>\n",
              "    <tr style=\"text-align: right;\">\n",
              "      <th></th>\n",
              "      <th>Player_Id</th>\n",
              "      <th>Player_Name</th>\n",
              "      <th>DOB</th>\n",
              "      <th>Batting_Hand</th>\n",
              "      <th>Bowling_Skill</th>\n",
              "      <th>Country</th>\n",
              "      <th>Is_Umpire</th>\n",
              "      <th>Unnamed: 7</th>\n",
              "    </tr>\n",
              "  </thead>\n",
              "  <tbody>\n",
              "    <tr>\n",
              "      <th>0</th>\n",
              "      <td>1</td>\n",
              "      <td>SC Ganguly</td>\n",
              "      <td>8-Jul-72</td>\n",
              "      <td>Left_Hand</td>\n",
              "      <td>Right-arm medium</td>\n",
              "      <td>India</td>\n",
              "      <td>0</td>\n",
              "      <td>NaN</td>\n",
              "    </tr>\n",
              "    <tr>\n",
              "      <th>1</th>\n",
              "      <td>2</td>\n",
              "      <td>BB McCullum</td>\n",
              "      <td>27-Sep-81</td>\n",
              "      <td>Right_Hand</td>\n",
              "      <td>Right-arm medium</td>\n",
              "      <td>New Zealand</td>\n",
              "      <td>0</td>\n",
              "      <td>NaN</td>\n",
              "    </tr>\n",
              "    <tr>\n",
              "      <th>2</th>\n",
              "      <td>3</td>\n",
              "      <td>RT Ponting</td>\n",
              "      <td>19-Dec-74</td>\n",
              "      <td>Right_Hand</td>\n",
              "      <td>Right-arm medium</td>\n",
              "      <td>Australia</td>\n",
              "      <td>0</td>\n",
              "      <td>NaN</td>\n",
              "    </tr>\n",
              "    <tr>\n",
              "      <th>3</th>\n",
              "      <td>4</td>\n",
              "      <td>DJ Hussey</td>\n",
              "      <td>15-Jul-77</td>\n",
              "      <td>Right_Hand</td>\n",
              "      <td>Right-arm offbreak</td>\n",
              "      <td>Australia</td>\n",
              "      <td>0</td>\n",
              "      <td>NaN</td>\n",
              "    </tr>\n",
              "    <tr>\n",
              "      <th>4</th>\n",
              "      <td>5</td>\n",
              "      <td>Mohammad Hafeez</td>\n",
              "      <td>17-Oct-80</td>\n",
              "      <td>Right_Hand</td>\n",
              "      <td>Right-arm offbreak</td>\n",
              "      <td>Pakistan</td>\n",
              "      <td>0</td>\n",
              "      <td>NaN</td>\n",
              "    </tr>\n",
              "  </tbody>\n",
              "</table>\n",
              "</div>"
            ],
            "text/plain": [
              "   Player_Id      Player_Name        DOB  ...      Country Is_Umpire Unnamed: 7\n",
              "0          1       SC Ganguly   8-Jul-72  ...        India         0        NaN\n",
              "1          2      BB McCullum  27-Sep-81  ...  New Zealand         0        NaN\n",
              "2          3       RT Ponting  19-Dec-74  ...    Australia         0        NaN\n",
              "3          4        DJ Hussey  15-Jul-77  ...    Australia         0        NaN\n",
              "4          5  Mohammad Hafeez  17-Oct-80  ...     Pakistan         0        NaN\n",
              "\n",
              "[5 rows x 8 columns]"
            ]
          },
          "metadata": {
            "tags": []
          },
          "execution_count": 77
        }
      ]
    },
    {
      "cell_type": "code",
      "metadata": {
        "id": "uA1nl87cC7sX",
        "outputId": "d991e7f1-60a2-47d3-a2a8-dce3feaf154c",
        "colab": {
          "base_uri": "https://localhost:8080/"
        }
      },
      "source": [
        "Player_df.isnull().sum()"
      ],
      "execution_count": 78,
      "outputs": [
        {
          "output_type": "execute_result",
          "data": {
            "text/plain": [
              "Player_Id          0\n",
              "Player_Name        0\n",
              "DOB               52\n",
              "Batting_Hand      52\n",
              "Bowling_Skill     96\n",
              "Country            0\n",
              "Is_Umpire          0\n",
              "Unnamed: 7       511\n",
              "dtype: int64"
            ]
          },
          "metadata": {
            "tags": []
          },
          "execution_count": 78
        }
      ]
    },
    {
      "cell_type": "markdown",
      "metadata": {
        "id": "gGvZGus9EWQ4"
      },
      "source": [
        "There are a few null values but they are in the columns which are not relevant to our use. So we will drop those columns."
      ]
    },
    {
      "cell_type": "markdown",
      "metadata": {
        "id": "_-mN0-z61VLB"
      },
      "source": [
        "Dropping the columns that are not useful for our analysis that are \"Is_Umpire, \"Unnamed:7\", \"DOB\".\n",
        "\n",
        "---\n",
        "\n"
      ]
    },
    {
      "cell_type": "code",
      "metadata": {
        "id": "16EUkzwn0uJa",
        "outputId": "84e6534b-6450-4868-b1ec-de823af10074",
        "colab": {
          "base_uri": "https://localhost:8080/",
          "height": 204
        }
      },
      "source": [
        "Player_df=Player_df.drop(['Is_Umpire',\t'Unnamed: 7','DOB'],axis=1)\n",
        "Player_df.head()"
      ],
      "execution_count": 79,
      "outputs": [
        {
          "output_type": "execute_result",
          "data": {
            "text/html": [
              "<div>\n",
              "<style scoped>\n",
              "    .dataframe tbody tr th:only-of-type {\n",
              "        vertical-align: middle;\n",
              "    }\n",
              "\n",
              "    .dataframe tbody tr th {\n",
              "        vertical-align: top;\n",
              "    }\n",
              "\n",
              "    .dataframe thead th {\n",
              "        text-align: right;\n",
              "    }\n",
              "</style>\n",
              "<table border=\"1\" class=\"dataframe\">\n",
              "  <thead>\n",
              "    <tr style=\"text-align: right;\">\n",
              "      <th></th>\n",
              "      <th>Player_Id</th>\n",
              "      <th>Player_Name</th>\n",
              "      <th>Batting_Hand</th>\n",
              "      <th>Bowling_Skill</th>\n",
              "      <th>Country</th>\n",
              "    </tr>\n",
              "  </thead>\n",
              "  <tbody>\n",
              "    <tr>\n",
              "      <th>0</th>\n",
              "      <td>1</td>\n",
              "      <td>SC Ganguly</td>\n",
              "      <td>Left_Hand</td>\n",
              "      <td>Right-arm medium</td>\n",
              "      <td>India</td>\n",
              "    </tr>\n",
              "    <tr>\n",
              "      <th>1</th>\n",
              "      <td>2</td>\n",
              "      <td>BB McCullum</td>\n",
              "      <td>Right_Hand</td>\n",
              "      <td>Right-arm medium</td>\n",
              "      <td>New Zealand</td>\n",
              "    </tr>\n",
              "    <tr>\n",
              "      <th>2</th>\n",
              "      <td>3</td>\n",
              "      <td>RT Ponting</td>\n",
              "      <td>Right_Hand</td>\n",
              "      <td>Right-arm medium</td>\n",
              "      <td>Australia</td>\n",
              "    </tr>\n",
              "    <tr>\n",
              "      <th>3</th>\n",
              "      <td>4</td>\n",
              "      <td>DJ Hussey</td>\n",
              "      <td>Right_Hand</td>\n",
              "      <td>Right-arm offbreak</td>\n",
              "      <td>Australia</td>\n",
              "    </tr>\n",
              "    <tr>\n",
              "      <th>4</th>\n",
              "      <td>5</td>\n",
              "      <td>Mohammad Hafeez</td>\n",
              "      <td>Right_Hand</td>\n",
              "      <td>Right-arm offbreak</td>\n",
              "      <td>Pakistan</td>\n",
              "    </tr>\n",
              "  </tbody>\n",
              "</table>\n",
              "</div>"
            ],
            "text/plain": [
              "   Player_Id      Player_Name Batting_Hand       Bowling_Skill      Country\n",
              "0          1       SC Ganguly    Left_Hand    Right-arm medium        India\n",
              "1          2      BB McCullum   Right_Hand    Right-arm medium  New Zealand\n",
              "2          3       RT Ponting   Right_Hand    Right-arm medium    Australia\n",
              "3          4        DJ Hussey   Right_Hand  Right-arm offbreak    Australia\n",
              "4          5  Mohammad Hafeez   Right_Hand  Right-arm offbreak     Pakistan"
            ]
          },
          "metadata": {
            "tags": []
          },
          "execution_count": 79
        }
      ]
    },
    {
      "cell_type": "code",
      "metadata": {
        "id": "SFNiRlqT7jJh",
        "outputId": "99188a8a-39b8-4395-fa0c-a9c89857de43",
        "colab": {
          "base_uri": "https://localhost:8080/",
          "height": 224
        }
      },
      "source": [
        "ball_by_ball_df= pd.read_csv('/content/drive/My Drive/Ball_by_Ball.csv')\n",
        "ball_by_ball_df.head()"
      ],
      "execution_count": 80,
      "outputs": [
        {
          "output_type": "execute_result",
          "data": {
            "text/html": [
              "<div>\n",
              "<style scoped>\n",
              "    .dataframe tbody tr th:only-of-type {\n",
              "        vertical-align: middle;\n",
              "    }\n",
              "\n",
              "    .dataframe tbody tr th {\n",
              "        vertical-align: top;\n",
              "    }\n",
              "\n",
              "    .dataframe thead th {\n",
              "        text-align: right;\n",
              "    }\n",
              "</style>\n",
              "<table border=\"1\" class=\"dataframe\">\n",
              "  <thead>\n",
              "    <tr style=\"text-align: right;\">\n",
              "      <th></th>\n",
              "      <th>Match_Id</th>\n",
              "      <th>Innings_Id</th>\n",
              "      <th>Over_Id</th>\n",
              "      <th>Ball_Id</th>\n",
              "      <th>Team_Batting_Id</th>\n",
              "      <th>Team_Bowling_Id</th>\n",
              "      <th>Striker_Id</th>\n",
              "      <th>Striker_Batting_Position</th>\n",
              "      <th>Non_Striker_Id</th>\n",
              "      <th>Bowler_Id</th>\n",
              "      <th>Batsman_Scored</th>\n",
              "      <th>Extra_Type</th>\n",
              "      <th>Extra_Runs</th>\n",
              "      <th>Player_dissimal_Id</th>\n",
              "      <th>Dissimal_Type</th>\n",
              "      <th>Fielder_Id</th>\n",
              "    </tr>\n",
              "  </thead>\n",
              "  <tbody>\n",
              "    <tr>\n",
              "      <th>0</th>\n",
              "      <td>335987</td>\n",
              "      <td>1</td>\n",
              "      <td>1</td>\n",
              "      <td>1</td>\n",
              "      <td>1</td>\n",
              "      <td>2</td>\n",
              "      <td>1</td>\n",
              "      <td>1</td>\n",
              "      <td>2</td>\n",
              "      <td>14</td>\n",
              "      <td>0</td>\n",
              "      <td>legbyes</td>\n",
              "      <td>1</td>\n",
              "      <td></td>\n",
              "      <td></td>\n",
              "      <td></td>\n",
              "    </tr>\n",
              "    <tr>\n",
              "      <th>1</th>\n",
              "      <td>335987</td>\n",
              "      <td>1</td>\n",
              "      <td>1</td>\n",
              "      <td>2</td>\n",
              "      <td>1</td>\n",
              "      <td>2</td>\n",
              "      <td>2</td>\n",
              "      <td>2</td>\n",
              "      <td>1</td>\n",
              "      <td>14</td>\n",
              "      <td>0</td>\n",
              "      <td></td>\n",
              "      <td></td>\n",
              "      <td></td>\n",
              "      <td></td>\n",
              "      <td></td>\n",
              "    </tr>\n",
              "    <tr>\n",
              "      <th>2</th>\n",
              "      <td>335987</td>\n",
              "      <td>1</td>\n",
              "      <td>1</td>\n",
              "      <td>3</td>\n",
              "      <td>1</td>\n",
              "      <td>2</td>\n",
              "      <td>2</td>\n",
              "      <td>2</td>\n",
              "      <td>1</td>\n",
              "      <td>14</td>\n",
              "      <td>0</td>\n",
              "      <td>wides</td>\n",
              "      <td>1</td>\n",
              "      <td></td>\n",
              "      <td></td>\n",
              "      <td></td>\n",
              "    </tr>\n",
              "    <tr>\n",
              "      <th>3</th>\n",
              "      <td>335987</td>\n",
              "      <td>1</td>\n",
              "      <td>1</td>\n",
              "      <td>4</td>\n",
              "      <td>1</td>\n",
              "      <td>2</td>\n",
              "      <td>2</td>\n",
              "      <td>2</td>\n",
              "      <td>1</td>\n",
              "      <td>14</td>\n",
              "      <td>0</td>\n",
              "      <td></td>\n",
              "      <td></td>\n",
              "      <td></td>\n",
              "      <td></td>\n",
              "      <td></td>\n",
              "    </tr>\n",
              "    <tr>\n",
              "      <th>4</th>\n",
              "      <td>335987</td>\n",
              "      <td>1</td>\n",
              "      <td>1</td>\n",
              "      <td>5</td>\n",
              "      <td>1</td>\n",
              "      <td>2</td>\n",
              "      <td>2</td>\n",
              "      <td>2</td>\n",
              "      <td>1</td>\n",
              "      <td>14</td>\n",
              "      <td>0</td>\n",
              "      <td></td>\n",
              "      <td></td>\n",
              "      <td></td>\n",
              "      <td></td>\n",
              "      <td></td>\n",
              "    </tr>\n",
              "  </tbody>\n",
              "</table>\n",
              "</div>"
            ],
            "text/plain": [
              "   Match_Id  Innings_Id  Over_Id  ...  Player_dissimal_Id  Dissimal_Type  Fielder_Id\n",
              "0    335987           1        1  ...                                               \n",
              "1    335987           1        1  ...                                               \n",
              "2    335987           1        1  ...                                               \n",
              "3    335987           1        1  ...                                               \n",
              "4    335987           1        1  ...                                               \n",
              "\n",
              "[5 rows x 16 columns]"
            ]
          },
          "metadata": {
            "tags": []
          },
          "execution_count": 80
        }
      ]
    },
    {
      "cell_type": "code",
      "metadata": {
        "id": "l5ZZYE_5wOcS",
        "outputId": "62f65898-c0ce-47b7-e710-582e047da71a",
        "colab": {
          "base_uri": "https://localhost:8080/"
        }
      },
      "source": [
        "ball_by_ball_df.shape"
      ],
      "execution_count": 81,
      "outputs": [
        {
          "output_type": "execute_result",
          "data": {
            "text/plain": [
              "(136590, 16)"
            ]
          },
          "metadata": {
            "tags": []
          },
          "execution_count": 81
        }
      ]
    },
    {
      "cell_type": "markdown",
      "metadata": {
        "id": "GW2275ON1tFR"
      },
      "source": [
        "There are 16 columns in the ball_by_ball field. The aim is to find the best replacement and this data frame have statistics of the bowler throwing balls and the runs scored by batsman. Not all the columns are relevant. Thus dropping some of the columns."
      ]
    },
    {
      "cell_type": "code",
      "metadata": {
        "id": "x0AvZQFw2dEb",
        "outputId": "b0adaa29-48ca-4787-87ac-05c919dccbc8",
        "colab": {
          "base_uri": "https://localhost:8080/",
          "height": 204
        }
      },
      "source": [
        "#Only selecting the following columns as this is the nly columns helps to decide the statistics of the player.\n",
        "#The number of bowls baller throwed and the number of scores batsman achieved. \n",
        "# Also which bowler gave how many runs and which batman played against the bowler. All the information can be calculated by this.\n",
        "ball_by_ball_df=ball_by_ball_df[['Match_Id','Batsman_Scored','Extra_Runs', 'Bowler_Id', 'Over_Id', 'Striker_Id']]\n",
        "ball_by_ball_df.head()"
      ],
      "execution_count": 82,
      "outputs": [
        {
          "output_type": "execute_result",
          "data": {
            "text/html": [
              "<div>\n",
              "<style scoped>\n",
              "    .dataframe tbody tr th:only-of-type {\n",
              "        vertical-align: middle;\n",
              "    }\n",
              "\n",
              "    .dataframe tbody tr th {\n",
              "        vertical-align: top;\n",
              "    }\n",
              "\n",
              "    .dataframe thead th {\n",
              "        text-align: right;\n",
              "    }\n",
              "</style>\n",
              "<table border=\"1\" class=\"dataframe\">\n",
              "  <thead>\n",
              "    <tr style=\"text-align: right;\">\n",
              "      <th></th>\n",
              "      <th>Match_Id</th>\n",
              "      <th>Batsman_Scored</th>\n",
              "      <th>Extra_Runs</th>\n",
              "      <th>Bowler_Id</th>\n",
              "      <th>Over_Id</th>\n",
              "      <th>Striker_Id</th>\n",
              "    </tr>\n",
              "  </thead>\n",
              "  <tbody>\n",
              "    <tr>\n",
              "      <th>0</th>\n",
              "      <td>335987</td>\n",
              "      <td>0</td>\n",
              "      <td>1</td>\n",
              "      <td>14</td>\n",
              "      <td>1</td>\n",
              "      <td>1</td>\n",
              "    </tr>\n",
              "    <tr>\n",
              "      <th>1</th>\n",
              "      <td>335987</td>\n",
              "      <td>0</td>\n",
              "      <td></td>\n",
              "      <td>14</td>\n",
              "      <td>1</td>\n",
              "      <td>2</td>\n",
              "    </tr>\n",
              "    <tr>\n",
              "      <th>2</th>\n",
              "      <td>335987</td>\n",
              "      <td>0</td>\n",
              "      <td>1</td>\n",
              "      <td>14</td>\n",
              "      <td>1</td>\n",
              "      <td>2</td>\n",
              "    </tr>\n",
              "    <tr>\n",
              "      <th>3</th>\n",
              "      <td>335987</td>\n",
              "      <td>0</td>\n",
              "      <td></td>\n",
              "      <td>14</td>\n",
              "      <td>1</td>\n",
              "      <td>2</td>\n",
              "    </tr>\n",
              "    <tr>\n",
              "      <th>4</th>\n",
              "      <td>335987</td>\n",
              "      <td>0</td>\n",
              "      <td></td>\n",
              "      <td>14</td>\n",
              "      <td>1</td>\n",
              "      <td>2</td>\n",
              "    </tr>\n",
              "  </tbody>\n",
              "</table>\n",
              "</div>"
            ],
            "text/plain": [
              "   Match_Id Batsman_Scored Extra_Runs  Bowler_Id  Over_Id  Striker_Id\n",
              "0    335987              0          1         14        1           1\n",
              "1    335987              0                    14        1           2\n",
              "2    335987              0          1         14        1           2\n",
              "3    335987              0                    14        1           2\n",
              "4    335987              0                    14        1           2"
            ]
          },
          "metadata": {
            "tags": []
          },
          "execution_count": 82
        }
      ]
    },
    {
      "cell_type": "markdown",
      "metadata": {
        "id": "ObcLp3HFE6A3"
      },
      "source": [
        "Checking the Data Types of the columns and looking for null values.\n",
        "\n"
      ]
    },
    {
      "cell_type": "code",
      "metadata": {
        "id": "2FxF8cKS5iDj",
        "outputId": "1d10329f-c0bd-448f-b1a6-91e8f0e83f60",
        "colab": {
          "base_uri": "https://localhost:8080/"
        }
      },
      "source": [
        "ball_by_ball_df.dtypes"
      ],
      "execution_count": 83,
      "outputs": [
        {
          "output_type": "execute_result",
          "data": {
            "text/plain": [
              "Match_Id           int64\n",
              "Batsman_Scored    object\n",
              "Extra_Runs        object\n",
              "Bowler_Id          int64\n",
              "Over_Id            int64\n",
              "Striker_Id         int64\n",
              "dtype: object"
            ]
          },
          "metadata": {
            "tags": []
          },
          "execution_count": 83
        }
      ]
    },
    {
      "cell_type": "markdown",
      "metadata": {
        "id": "DMGzJXsn5sSg"
      },
      "source": [
        "Converting the object data type to integer."
      ]
    },
    {
      "cell_type": "code",
      "metadata": {
        "id": "9qF71Crn5rvl"
      },
      "source": [
        "#https://stackoverflow.com/questions/40790031/pandas-to-numeric-find-out-which-string-it-was-unable-to-parse\n",
        "ball_by_ball_df[\"Batsman_Scored\"] = pd.to_numeric(ball_by_ball_df[\"Batsman_Scored\"], errors=\"coerce\")\n",
        "ball_by_ball_df[\"Extra_Runs\"] = pd.to_numeric(ball_by_ball_df[\"Extra_Runs\"], errors=\"coerce\")"
      ],
      "execution_count": 84,
      "outputs": []
    },
    {
      "cell_type": "code",
      "metadata": {
        "id": "KxpIo2B56saX",
        "outputId": "11cfb69e-6d6a-4fdc-e515-1fc173cfdba2",
        "colab": {
          "base_uri": "https://localhost:8080/"
        }
      },
      "source": [
        "#checking for null values\n",
        "ball_by_ball_df.isnull().sum()"
      ],
      "execution_count": 85,
      "outputs": [
        {
          "output_type": "execute_result",
          "data": {
            "text/plain": [
              "Match_Id               0\n",
              "Batsman_Scored        26\n",
              "Extra_Runs        130330\n",
              "Bowler_Id              0\n",
              "Over_Id                0\n",
              "Striker_Id             0\n",
              "dtype: int64"
            ]
          },
          "metadata": {
            "tags": []
          },
          "execution_count": 85
        }
      ]
    },
    {
      "cell_type": "markdown",
      "metadata": {
        "id": "Di2C0tM45FV-"
      },
      "source": [
        "It is evident from that some columns have null values.\n",
        "The field 'Extra_Runs' is empty when there are no extra runs. Thus it is better to field them with zero."
      ]
    },
    {
      "cell_type": "code",
      "metadata": {
        "id": "po_9-WaD41QG"
      },
      "source": [
        "ball_by_ball_df[\"Batsman_Scored\"] = ball_by_ball_df[\"Batsman_Scored\"].fillna(0)\n",
        "ball_by_ball_df[\"Extra_Runs\"] = ball_by_ball_df[\"Extra_Runs\"].fillna(0)"
      ],
      "execution_count": 86,
      "outputs": []
    },
    {
      "cell_type": "markdown",
      "metadata": {
        "id": "6tOh_PdbLoN0"
      },
      "source": [
        "# **Transformations and Experiments**"
      ]
    },
    {
      "cell_type": "markdown",
      "metadata": {
        "id": "HrtPQ5iVAsmE"
      },
      "source": [
        "The goal of the project is to find the replacement for the batsmen. Thus, now creating a new dataframe that will have batsmen Id, number of runs scored and number of balls the player has played. The strike rate of batsmen is also calculated in the dataframe. "
      ]
    },
    {
      "cell_type": "code",
      "metadata": {
        "id": "C-pkarl--HbP"
      },
      "source": [
        "#Appending the values in a list\n",
        "no_of_runs = []\n",
        "no_of_balls_played = []\n",
        "unique_batsmen_id= ball_by_ball_df[\"Striker_Id\"].unique()\n",
        "for i in unique_batsmen_id:\n",
        "    run = ball_by_ball_df[\"Batsman_Scored\"][ball_by_ball_df[\"Striker_Id\"] == i].sum()\n",
        "    ball = ball_by_ball_df[\"Match_Id\"][ball_by_ball_df[\"Striker_Id\"] == i].count()\n",
        "    no_of_runs.append(run)\n",
        "    no_of_balls_played.append(ball)\n",
        "\n",
        "#Creating a new dataframe with all the players and the number of balls played, runs scored, strike rate.\n",
        "batsmen_df = pd.DataFrame({\"Player_names\": ball_by_ball_df[\"Striker_Id\"].unique()})\n",
        "\n",
        "batsmen_df[\"Runs\"] = no_of_runs\n",
        "batsmen_df[\"Balls_played\"] = no_of_balls_played"
      ],
      "execution_count": 87,
      "outputs": []
    },
    {
      "cell_type": "markdown",
      "metadata": {
        "id": "AJsdloa3D6Yd"
      },
      "source": [
        "Calculating Strike rate of a batsman is very importannt is understanding how he is performing. \n",
        "\n",
        "\n",
        "Strike Rate of a Batsman is the number of runs scored by a batsmen in 100 balls. For this we will calculate the number of runs and multiply them by 100 and divide the equation by the number of balls played. \n"
      ]
    },
    {
      "cell_type": "code",
      "metadata": {
        "id": "ypXIoRhXCVoD",
        "outputId": "84abee4f-d154-4fc5-b8ed-0fe18fdf2d5c",
        "colab": {
          "base_uri": "https://localhost:8080/",
          "height": 204
        }
      },
      "source": [
        "batsmen_df[\"Strike_Rate\"] = (batsmen_df[\"Runs\"] * 100 / batsmen_df[\"Balls_played\"]).round(2)\n",
        "\n",
        "#Eliminating batsmen with low strike rates as they will be lower order batsmen who are probably bowlers.\n",
        "\n",
        "batsmen_df = batsmen_df[batsmen_df[\"Strike_Rate\"] > 50]\n",
        "\n",
        "#It is important to filter players who have played atleast an over and scored runs more than 6 in an over. (One Run a ball atleast )\n",
        "batsmen_df = batsmen_df[(batsmen_df[\"Runs\"]*6/batsmen_df[\"Balls_played\"]) > 6]\n",
        "\n",
        "batsmen_df.head()"
      ],
      "execution_count": 88,
      "outputs": [
        {
          "output_type": "execute_result",
          "data": {
            "text/html": [
              "<div>\n",
              "<style scoped>\n",
              "    .dataframe tbody tr th:only-of-type {\n",
              "        vertical-align: middle;\n",
              "    }\n",
              "\n",
              "    .dataframe tbody tr th {\n",
              "        vertical-align: top;\n",
              "    }\n",
              "\n",
              "    .dataframe thead th {\n",
              "        text-align: right;\n",
              "    }\n",
              "</style>\n",
              "<table border=\"1\" class=\"dataframe\">\n",
              "  <thead>\n",
              "    <tr style=\"text-align: right;\">\n",
              "      <th></th>\n",
              "      <th>Player_names</th>\n",
              "      <th>Runs</th>\n",
              "      <th>Balls_played</th>\n",
              "      <th>Strike_Rate</th>\n",
              "    </tr>\n",
              "  </thead>\n",
              "  <tbody>\n",
              "    <tr>\n",
              "      <th>0</th>\n",
              "      <td>1</td>\n",
              "      <td>1349.0</td>\n",
              "      <td>1326</td>\n",
              "      <td>101.73</td>\n",
              "    </tr>\n",
              "    <tr>\n",
              "      <th>1</th>\n",
              "      <td>2</td>\n",
              "      <td>2435.0</td>\n",
              "      <td>1954</td>\n",
              "      <td>124.62</td>\n",
              "    </tr>\n",
              "    <tr>\n",
              "      <th>3</th>\n",
              "      <td>4</td>\n",
              "      <td>1322.0</td>\n",
              "      <td>1101</td>\n",
              "      <td>120.07</td>\n",
              "    </tr>\n",
              "    <tr>\n",
              "      <th>5</th>\n",
              "      <td>6</td>\n",
              "      <td>2170.0</td>\n",
              "      <td>1918</td>\n",
              "      <td>113.14</td>\n",
              "    </tr>\n",
              "    <tr>\n",
              "      <th>6</th>\n",
              "      <td>7</td>\n",
              "      <td>130.0</td>\n",
              "      <td>129</td>\n",
              "      <td>100.78</td>\n",
              "    </tr>\n",
              "  </tbody>\n",
              "</table>\n",
              "</div>"
            ],
            "text/plain": [
              "   Player_names    Runs  Balls_played  Strike_Rate\n",
              "0             1  1349.0          1326       101.73\n",
              "1             2  2435.0          1954       124.62\n",
              "3             4  1322.0          1101       120.07\n",
              "5             6  2170.0          1918       113.14\n",
              "6             7   130.0           129       100.78"
            ]
          },
          "metadata": {
            "tags": []
          },
          "execution_count": 88
        }
      ]
    },
    {
      "cell_type": "markdown",
      "metadata": {
        "id": "fUGirfUCPDwJ"
      },
      "source": [
        "We will rename the column name for merging the two dataframes for identifying the players name from their player id."
      ]
    },
    {
      "cell_type": "code",
      "metadata": {
        "id": "KS1r38-fWr7q",
        "outputId": "a9234bde-04d9-45a7-994b-13983cb289f7",
        "colab": {
          "base_uri": "https://localhost:8080/",
          "height": 204
        }
      },
      "source": [
        "batsmen_df = batsmen_df.rename(columns={\"Player_names\": \"Player_Id\"})\n",
        "batsmen_df = batsmen_df[batsmen_df.columns].merge(Player_df, \"left\")\n",
        "batsmen_df.head()"
      ],
      "execution_count": 89,
      "outputs": [
        {
          "output_type": "execute_result",
          "data": {
            "text/html": [
              "<div>\n",
              "<style scoped>\n",
              "    .dataframe tbody tr th:only-of-type {\n",
              "        vertical-align: middle;\n",
              "    }\n",
              "\n",
              "    .dataframe tbody tr th {\n",
              "        vertical-align: top;\n",
              "    }\n",
              "\n",
              "    .dataframe thead th {\n",
              "        text-align: right;\n",
              "    }\n",
              "</style>\n",
              "<table border=\"1\" class=\"dataframe\">\n",
              "  <thead>\n",
              "    <tr style=\"text-align: right;\">\n",
              "      <th></th>\n",
              "      <th>Player_Id</th>\n",
              "      <th>Runs</th>\n",
              "      <th>Balls_played</th>\n",
              "      <th>Strike_Rate</th>\n",
              "      <th>Player_Name</th>\n",
              "      <th>Batting_Hand</th>\n",
              "      <th>Bowling_Skill</th>\n",
              "      <th>Country</th>\n",
              "    </tr>\n",
              "  </thead>\n",
              "  <tbody>\n",
              "    <tr>\n",
              "      <th>0</th>\n",
              "      <td>1</td>\n",
              "      <td>1349.0</td>\n",
              "      <td>1326</td>\n",
              "      <td>101.73</td>\n",
              "      <td>SC Ganguly</td>\n",
              "      <td>Left_Hand</td>\n",
              "      <td>Right-arm medium</td>\n",
              "      <td>India</td>\n",
              "    </tr>\n",
              "    <tr>\n",
              "      <th>1</th>\n",
              "      <td>2</td>\n",
              "      <td>2435.0</td>\n",
              "      <td>1954</td>\n",
              "      <td>124.62</td>\n",
              "      <td>BB McCullum</td>\n",
              "      <td>Right_Hand</td>\n",
              "      <td>Right-arm medium</td>\n",
              "      <td>New Zealand</td>\n",
              "    </tr>\n",
              "    <tr>\n",
              "      <th>2</th>\n",
              "      <td>4</td>\n",
              "      <td>1322.0</td>\n",
              "      <td>1101</td>\n",
              "      <td>120.07</td>\n",
              "      <td>DJ Hussey</td>\n",
              "      <td>Right_Hand</td>\n",
              "      <td>Right-arm offbreak</td>\n",
              "      <td>Australia</td>\n",
              "    </tr>\n",
              "    <tr>\n",
              "      <th>3</th>\n",
              "      <td>6</td>\n",
              "      <td>2170.0</td>\n",
              "      <td>1918</td>\n",
              "      <td>113.14</td>\n",
              "      <td>R Dravid</td>\n",
              "      <td>Right_Hand</td>\n",
              "      <td>Right-arm offbreak</td>\n",
              "      <td>India</td>\n",
              "    </tr>\n",
              "    <tr>\n",
              "      <th>4</th>\n",
              "      <td>7</td>\n",
              "      <td>130.0</td>\n",
              "      <td>129</td>\n",
              "      <td>100.78</td>\n",
              "      <td>W Jaffer</td>\n",
              "      <td>Right_Hand</td>\n",
              "      <td>Right-arm offbreak</td>\n",
              "      <td>India</td>\n",
              "    </tr>\n",
              "  </tbody>\n",
              "</table>\n",
              "</div>"
            ],
            "text/plain": [
              "   Player_Id    Runs  ...       Bowling_Skill      Country\n",
              "0          1  1349.0  ...    Right-arm medium        India\n",
              "1          2  2435.0  ...    Right-arm medium  New Zealand\n",
              "2          4  1322.0  ...  Right-arm offbreak    Australia\n",
              "3          6  2170.0  ...  Right-arm offbreak        India\n",
              "4          7   130.0  ...  Right-arm offbreak        India\n",
              "\n",
              "[5 rows x 8 columns]"
            ]
          },
          "metadata": {
            "tags": []
          },
          "execution_count": 89
        }
      ]
    },
    {
      "cell_type": "markdown",
      "metadata": {
        "id": "dtMnqOFW8M0g"
      },
      "source": [
        "Checking the top 10 highest run scorers in the IPL in these 8 years."
      ]
    },
    {
      "cell_type": "code",
      "metadata": {
        "id": "RQ6QS1T6w_Vy",
        "outputId": "f6d63028-6cd4-493e-fd86-8fd19ce0c72c",
        "colab": {
          "base_uri": "https://localhost:8080/",
          "height": 403
        }
      },
      "source": [
        "plt.bar(batsmen_df.nlargest(10, 'Runs')['Player_Name'], batsmen_df.nlargest(10, 'Runs')['Runs'])\n",
        "plt.xticks(rotation= 45)\n"
      ],
      "execution_count": 72,
      "outputs": [
        {
          "output_type": "execute_result",
          "data": {
            "text/plain": [
              "([0, 1, 2, 3, 4, 5, 6, 7, 8, 9], <a list of 10 Text major ticklabel objects>)"
            ]
          },
          "metadata": {
            "tags": []
          },
          "execution_count": 72
        },
        {
          "output_type": "display_data",
          "data": {
            "image/png": "[encoded data removed]",
            "text/plain": [
              "<Figure size 576x396 with 1 Axes>"
            ]
          },
          "metadata": {
            "tags": []
          }
        }
      ]
    },
    {
      "cell_type": "markdown",
      "metadata": {
        "id": "IG-zvUr67uX7"
      },
      "source": [
        "Checking and Plotting the top 10 players who have faced the most number of balls."
      ]
    },
    {
      "cell_type": "code",
      "metadata": {
        "id": "auXPuf5T1o3o",
        "outputId": "dd80bd02-406e-4e8f-e22e-7726f412a570",
        "colab": {
          "base_uri": "https://localhost:8080/",
          "height": 399
        }
      },
      "source": [
        "plt.bar(batsmen_df.nlargest(10, 'Balls_played')['Player_Name'], batsmen_df.nlargest(10, 'Balls_played')['Balls_played'])\n",
        "plt.xticks(rotation= 45)"
      ],
      "execution_count": 73,
      "outputs": [
        {
          "output_type": "execute_result",
          "data": {
            "text/plain": [
              "([0, 1, 2, 3, 4, 5, 6, 7, 8, 9], <a list of 10 Text major ticklabel objects>)"
            ]
          },
          "metadata": {
            "tags": []
          },
          "execution_count": 73
        },
        {
          "output_type": "display_data",
          "data": {
            "image/png": "[encoded data removed]",
            "text/plain": [
              "<Figure size 576x396 with 1 Axes>"
            ]
          },
          "metadata": {
            "tags": []
          }
        }
      ]
    },
    {
      "cell_type": "markdown",
      "metadata": {
        "id": "z-LvUn918kJK"
      },
      "source": [
        "From the above results we can say that Virat Kohli is the top scorer and has faced the most balls in the IPL from the current statistics. This shows us that we are finding the replacement for the best player."
      ]
    },
    {
      "cell_type": "markdown",
      "metadata": {
        "id": "rQpeTMdeL0LG"
      },
      "source": [
        "# **Determining the best parameters for K-means and number of clusters.**"
      ]
    },
    {
      "cell_type": "markdown",
      "metadata": {
        "id": "8K4Yq8ACdsfR"
      },
      "source": [
        "KMeans is used for grouping of data which is an unsupervised learning technique which is why we will use it to solve this problem. As we can create different clusters and identify similar players according to their statistics."
      ]
    },
    {
      "cell_type": "markdown",
      "metadata": {
        "id": "KqoQ9SnRIOEY"
      },
      "source": [
        "To determine the amount of clusters in this data we will use the Elbow method in this case. "
      ]
    },
    {
      "cell_type": "code",
      "metadata": {
        "id": "A_Umnm-SLIdY",
        "outputId": "63ec9740-abde-41ea-b415-31dd928a051d",
        "colab": {
          "base_uri": "https://localhost:8080/",
          "height": 435
        }
      },
      "source": [
        "# Instantiate the clustering model and visualizer\n",
        "model = KMeans()\n",
        "visualizer = KElbowVisualizer(model, k=(4,12))\n",
        "\n",
        "visualizer.fit(batsmen_df[['Runs','Balls_played','Strike_Rate']])        # Fit the data to the visualizer  "
      ],
      "execution_count": 45,
      "outputs": [
        {
          "output_type": "stream",
          "text": [
            "/usr/local/lib/python3.6/dist-packages/sklearn/base.py:197: FutureWarning: From version 0.24, get_params will raise an AttributeError if a parameter cannot be retrieved as an instance attribute. Previously it would return None.\n",
            "  FutureWarning)\n"
          ],
          "name": "stderr"
        },
        {
          "output_type": "execute_result",
          "data": {
            "text/plain": [
              "KElbowVisualizer(ax=<matplotlib.axes._subplots.AxesSubplot object at 0x7f1efbc7bcf8>,\n",
              "                 k=None, metric=None, model=None, timings=True)"
            ]
          },
          "metadata": {
            "tags": []
          },
          "execution_count": 45
        },
        {
          "output_type": "display_data",
          "data": {
            "image/png": "[encoded data removed]",
            "text/plain": [
              "<Figure size 576x396 with 2 Axes>"
            ]
          },
          "metadata": {
            "tags": []
          }
        }
      ]
    },
    {
      "cell_type": "markdown",
      "metadata": {
        "id": "a69yXi0WJS3V"
      },
      "source": [
        "We can clearly see that the Elbow method suggests us with 8 number of clusters in this data."
      ]
    },
    {
      "cell_type": "markdown",
      "metadata": {
        "id": "i8F6RokeJesQ"
      },
      "source": [
        "We will now use KMeans clustering for this dataset. \n",
        "\n",
        "Using Pipeline and Grid Search for getting the best parameters. This is totally experimental. Feel free to try out different inputs for the same."
      ]
    },
    {
      "cell_type": "code",
      "metadata": {
        "id": "EuapMsbnQDTy",
        "outputId": "e3ea7511-6949-4a20-a4c8-6bbc47cb542c",
        "colab": {
          "base_uri": "https://localhost:8080/"
        }
      },
      "source": [
        "#Pipeline and Grid Search for best estimator.\n",
        "pipe = Pipeline(steps=[('k_means',KMeans())])\n",
        "param_grid= {\n",
        "    \n",
        "    'k_means__init': ['k-means++','‘random’'],\n",
        "    'k_means__algorithm' : ['auto', 'full', 'elkan'], \n",
        "    'k_means__precompute_distances' : ['auto', True, False]\n",
        "    \n",
        "}\n",
        "gs = GridSearchCV(pipe, param_grid, cv = 5)\n",
        "gs.fit(batsmen_df[['Runs','Balls_played','Strike_Rate']])"
      ],
      "execution_count": 35,
      "outputs": [
        {
          "output_type": "stream",
          "text": [
            "/usr/local/lib/python3.6/dist-packages/sklearn/model_selection/_validation.py:536: FitFailedWarning: Estimator fit failed. The score on this train-test partition for these parameters will be set to nan. Details: \n",
            "ValueError: the init parameter for the k-means should be 'k-means++' or 'random' or an ndarray, '‘random’' (type '<class 'str'>') was passed.\n",
            "\n",
            "  FitFailedWarning)\n",
            "/usr/local/lib/python3.6/dist-packages/sklearn/model_selection/_validation.py:536: FitFailedWarning: Estimator fit failed. The score on this train-test partition for these parameters will be set to nan. Details: \n",
            "ValueError: the init parameter for the k-means should be 'k-means++' or 'random' or an ndarray, '‘random’' (type '<class 'str'>') was passed.\n",
            "\n",
            "  FitFailedWarning)\n",
            "/usr/local/lib/python3.6/dist-packages/sklearn/model_selection/_validation.py:536: FitFailedWarning: Estimator fit failed. The score on this train-test partition for these parameters will be set to nan. Details: \n",
            "ValueError: the init parameter for the k-means should be 'k-means++' or 'random' or an ndarray, '‘random’' (type '<class 'str'>') was passed.\n",
            "\n",
            "  FitFailedWarning)\n",
            "/usr/local/lib/python3.6/dist-packages/sklearn/model_selection/_validation.py:536: FitFailedWarning: Estimator fit failed. The score on this train-test partition for these parameters will be set to nan. Details: \n",
            "ValueError: the init parameter for the k-means should be 'k-means++' or 'random' or an ndarray, '‘random’' (type '<class 'str'>') was passed.\n",
            "\n",
            "  FitFailedWarning)\n",
            "/usr/local/lib/python3.6/dist-packages/sklearn/model_selection/_validation.py:536: FitFailedWarning: Estimator fit failed. The score on this train-test partition for these parameters will be set to nan. Details: \n",
            "ValueError: the init parameter for the k-means should be 'k-means++' or 'random' or an ndarray, '‘random’' (type '<class 'str'>') was passed.\n",
            "\n",
            "  FitFailedWarning)\n",
            "/usr/local/lib/python3.6/dist-packages/sklearn/model_selection/_validation.py:536: FitFailedWarning: Estimator fit failed. The score on this train-test partition for these parameters will be set to nan. Details: \n",
            "ValueError: the init parameter for the k-means should be 'k-means++' or 'random' or an ndarray, '‘random’' (type '<class 'str'>') was passed.\n",
            "\n",
            "  FitFailedWarning)\n",
            "/usr/local/lib/python3.6/dist-packages/sklearn/model_selection/_validation.py:536: FitFailedWarning: Estimator fit failed. The score on this train-test partition for these parameters will be set to nan. Details: \n",
            "ValueError: the init parameter for the k-means should be 'k-means++' or 'random' or an ndarray, '‘random’' (type '<class 'str'>') was passed.\n",
            "\n",
            "  FitFailedWarning)\n",
            "/usr/local/lib/python3.6/dist-packages/sklearn/model_selection/_validation.py:536: FitFailedWarning: Estimator fit failed. The score on this train-test partition for these parameters will be set to nan. Details: \n",
            "ValueError: the init parameter for the k-means should be 'k-means++' or 'random' or an ndarray, '‘random’' (type '<class 'str'>') was passed.\n",
            "\n",
            "  FitFailedWarning)\n",
            "/usr/local/lib/python3.6/dist-packages/sklearn/model_selection/_validation.py:536: FitFailedWarning: Estimator fit failed. The score on this train-test partition for these parameters will be set to nan. Details: \n",
            "ValueError: the init parameter for the k-means should be 'k-means++' or 'random' or an ndarray, '‘random’' (type '<class 'str'>') was passed.\n",
            "\n",
            "  FitFailedWarning)\n",
            "/usr/local/lib/python3.6/dist-packages/sklearn/model_selection/_validation.py:536: FitFailedWarning: Estimator fit failed. The score on this train-test partition for these parameters will be set to nan. Details: \n",
            "ValueError: the init parameter for the k-means should be 'k-means++' or 'random' or an ndarray, '‘random’' (type '<class 'str'>') was passed.\n",
            "\n",
            "  FitFailedWarning)\n",
            "/usr/local/lib/python3.6/dist-packages/sklearn/model_selection/_validation.py:536: FitFailedWarning: Estimator fit failed. The score on this train-test partition for these parameters will be set to nan. Details: \n",
            "ValueError: the init parameter for the k-means should be 'k-means++' or 'random' or an ndarray, '‘random’' (type '<class 'str'>') was passed.\n",
            "\n",
            "  FitFailedWarning)\n",
            "/usr/local/lib/python3.6/dist-packages/sklearn/model_selection/_validation.py:536: FitFailedWarning: Estimator fit failed. The score on this train-test partition for these parameters will be set to nan. Details: \n",
            "ValueError: the init parameter for the k-means should be 'k-means++' or 'random' or an ndarray, '‘random’' (type '<class 'str'>') was passed.\n",
            "\n",
            "  FitFailedWarning)\n",
            "/usr/local/lib/python3.6/dist-packages/sklearn/model_selection/_validation.py:536: FitFailedWarning: Estimator fit failed. The score on this train-test partition for these parameters will be set to nan. Details: \n",
            "ValueError: the init parameter for the k-means should be 'k-means++' or 'random' or an ndarray, '‘random’' (type '<class 'str'>') was passed.\n",
            "\n",
            "  FitFailedWarning)\n",
            "/usr/local/lib/python3.6/dist-packages/sklearn/model_selection/_validation.py:536: FitFailedWarning: Estimator fit failed. The score on this train-test partition for these parameters will be set to nan. Details: \n",
            "ValueError: the init parameter for the k-means should be 'k-means++' or 'random' or an ndarray, '‘random’' (type '<class 'str'>') was passed.\n",
            "\n",
            "  FitFailedWarning)\n",
            "/usr/local/lib/python3.6/dist-packages/sklearn/model_selection/_validation.py:536: FitFailedWarning: Estimator fit failed. The score on this train-test partition for these parameters will be set to nan. Details: \n",
            "ValueError: the init parameter for the k-means should be 'k-means++' or 'random' or an ndarray, '‘random’' (type '<class 'str'>') was passed.\n",
            "\n",
            "  FitFailedWarning)\n",
            "/usr/local/lib/python3.6/dist-packages/sklearn/model_selection/_validation.py:536: FitFailedWarning: Estimator fit failed. The score on this train-test partition for these parameters will be set to nan. Details: \n",
            "ValueError: the init parameter for the k-means should be 'k-means++' or 'random' or an ndarray, '‘random’' (type '<class 'str'>') was passed.\n",
            "\n",
            "  FitFailedWarning)\n",
            "/usr/local/lib/python3.6/dist-packages/sklearn/model_selection/_validation.py:536: FitFailedWarning: Estimator fit failed. The score on this train-test partition for these parameters will be set to nan. Details: \n",
            "ValueError: the init parameter for the k-means should be 'k-means++' or 'random' or an ndarray, '‘random’' (type '<class 'str'>') was passed.\n",
            "\n",
            "  FitFailedWarning)\n",
            "/usr/local/lib/python3.6/dist-packages/sklearn/model_selection/_validation.py:536: FitFailedWarning: Estimator fit failed. The score on this train-test partition for these parameters will be set to nan. Details: \n",
            "ValueError: the init parameter for the k-means should be 'k-means++' or 'random' or an ndarray, '‘random’' (type '<class 'str'>') was passed.\n",
            "\n",
            "  FitFailedWarning)\n",
            "/usr/local/lib/python3.6/dist-packages/sklearn/model_selection/_validation.py:536: FitFailedWarning: Estimator fit failed. The score on this train-test partition for these parameters will be set to nan. Details: \n",
            "ValueError: the init parameter for the k-means should be 'k-means++' or 'random' or an ndarray, '‘random’' (type '<class 'str'>') was passed.\n",
            "\n",
            "  FitFailedWarning)\n",
            "/usr/local/lib/python3.6/dist-packages/sklearn/model_selection/_validation.py:536: FitFailedWarning: Estimator fit failed. The score on this train-test partition for these parameters will be set to nan. Details: \n",
            "ValueError: the init parameter for the k-means should be 'k-means++' or 'random' or an ndarray, '‘random’' (type '<class 'str'>') was passed.\n",
            "\n",
            "  FitFailedWarning)\n",
            "/usr/local/lib/python3.6/dist-packages/sklearn/model_selection/_validation.py:536: FitFailedWarning: Estimator fit failed. The score on this train-test partition for these parameters will be set to nan. Details: \n",
            "ValueError: the init parameter for the k-means should be 'k-means++' or 'random' or an ndarray, '‘random’' (type '<class 'str'>') was passed.\n",
            "\n",
            "  FitFailedWarning)\n",
            "/usr/local/lib/python3.6/dist-packages/sklearn/model_selection/_validation.py:536: FitFailedWarning: Estimator fit failed. The score on this train-test partition for these parameters will be set to nan. Details: \n",
            "ValueError: the init parameter for the k-means should be 'k-means++' or 'random' or an ndarray, '‘random’' (type '<class 'str'>') was passed.\n",
            "\n",
            "  FitFailedWarning)\n",
            "/usr/local/lib/python3.6/dist-packages/sklearn/model_selection/_validation.py:536: FitFailedWarning: Estimator fit failed. The score on this train-test partition for these parameters will be set to nan. Details: \n",
            "ValueError: the init parameter for the k-means should be 'k-means++' or 'random' or an ndarray, '‘random’' (type '<class 'str'>') was passed.\n",
            "\n",
            "  FitFailedWarning)\n",
            "/usr/local/lib/python3.6/dist-packages/sklearn/model_selection/_validation.py:536: FitFailedWarning: Estimator fit failed. The score on this train-test partition for these parameters will be set to nan. Details: \n",
            "ValueError: the init parameter for the k-means should be 'k-means++' or 'random' or an ndarray, '‘random’' (type '<class 'str'>') was passed.\n",
            "\n",
            "  FitFailedWarning)\n",
            "/usr/local/lib/python3.6/dist-packages/sklearn/model_selection/_validation.py:536: FitFailedWarning: Estimator fit failed. The score on this train-test partition for these parameters will be set to nan. Details: \n",
            "ValueError: the init parameter for the k-means should be 'k-means++' or 'random' or an ndarray, '‘random’' (type '<class 'str'>') was passed.\n",
            "\n",
            "  FitFailedWarning)\n",
            "/usr/local/lib/python3.6/dist-packages/sklearn/model_selection/_validation.py:536: FitFailedWarning: Estimator fit failed. The score on this train-test partition for these parameters will be set to nan. Details: \n",
            "ValueError: the init parameter for the k-means should be 'k-means++' or 'random' or an ndarray, '‘random’' (type '<class 'str'>') was passed.\n",
            "\n",
            "  FitFailedWarning)\n",
            "/usr/local/lib/python3.6/dist-packages/sklearn/model_selection/_validation.py:536: FitFailedWarning: Estimator fit failed. The score on this train-test partition for these parameters will be set to nan. Details: \n",
            "ValueError: the init parameter for the k-means should be 'k-means++' or 'random' or an ndarray, '‘random’' (type '<class 'str'>') was passed.\n",
            "\n",
            "  FitFailedWarning)\n",
            "/usr/local/lib/python3.6/dist-packages/sklearn/model_selection/_validation.py:536: FitFailedWarning: Estimator fit failed. The score on this train-test partition for these parameters will be set to nan. Details: \n",
            "ValueError: the init parameter for the k-means should be 'k-means++' or 'random' or an ndarray, '‘random’' (type '<class 'str'>') was passed.\n",
            "\n",
            "  FitFailedWarning)\n",
            "/usr/local/lib/python3.6/dist-packages/sklearn/model_selection/_validation.py:536: FitFailedWarning: Estimator fit failed. The score on this train-test partition for these parameters will be set to nan. Details: \n",
            "ValueError: the init parameter for the k-means should be 'k-means++' or 'random' or an ndarray, '‘random’' (type '<class 'str'>') was passed.\n",
            "\n",
            "  FitFailedWarning)\n",
            "/usr/local/lib/python3.6/dist-packages/sklearn/model_selection/_validation.py:536: FitFailedWarning: Estimator fit failed. The score on this train-test partition for these parameters will be set to nan. Details: \n",
            "ValueError: the init parameter for the k-means should be 'k-means++' or 'random' or an ndarray, '‘random’' (type '<class 'str'>') was passed.\n",
            "\n",
            "  FitFailedWarning)\n",
            "/usr/local/lib/python3.6/dist-packages/sklearn/model_selection/_validation.py:536: FitFailedWarning: Estimator fit failed. The score on this train-test partition for these parameters will be set to nan. Details: \n",
            "ValueError: the init parameter for the k-means should be 'k-means++' or 'random' or an ndarray, '‘random’' (type '<class 'str'>') was passed.\n",
            "\n",
            "  FitFailedWarning)\n",
            "/usr/local/lib/python3.6/dist-packages/sklearn/model_selection/_validation.py:536: FitFailedWarning: Estimator fit failed. The score on this train-test partition for these parameters will be set to nan. Details: \n",
            "ValueError: the init parameter for the k-means should be 'k-means++' or 'random' or an ndarray, '‘random’' (type '<class 'str'>') was passed.\n",
            "\n",
            "  FitFailedWarning)\n",
            "/usr/local/lib/python3.6/dist-packages/sklearn/model_selection/_validation.py:536: FitFailedWarning: Estimator fit failed. The score on this train-test partition for these parameters will be set to nan. Details: \n",
            "ValueError: the init parameter for the k-means should be 'k-means++' or 'random' or an ndarray, '‘random’' (type '<class 'str'>') was passed.\n",
            "\n",
            "  FitFailedWarning)\n",
            "/usr/local/lib/python3.6/dist-packages/sklearn/model_selection/_validation.py:536: FitFailedWarning: Estimator fit failed. The score on this train-test partition for these parameters will be set to nan. Details: \n",
            "ValueError: the init parameter for the k-means should be 'k-means++' or 'random' or an ndarray, '‘random’' (type '<class 'str'>') was passed.\n",
            "\n",
            "  FitFailedWarning)\n",
            "/usr/local/lib/python3.6/dist-packages/sklearn/model_selection/_validation.py:536: FitFailedWarning: Estimator fit failed. The score on this train-test partition for these parameters will be set to nan. Details: \n",
            "ValueError: the init parameter for the k-means should be 'k-means++' or 'random' or an ndarray, '‘random’' (type '<class 'str'>') was passed.\n",
            "\n",
            "  FitFailedWarning)\n",
            "/usr/local/lib/python3.6/dist-packages/sklearn/model_selection/_validation.py:536: FitFailedWarning: Estimator fit failed. The score on this train-test partition for these parameters will be set to nan. Details: \n",
            "ValueError: the init parameter for the k-means should be 'k-means++' or 'random' or an ndarray, '‘random’' (type '<class 'str'>') was passed.\n",
            "\n",
            "  FitFailedWarning)\n",
            "/usr/local/lib/python3.6/dist-packages/sklearn/model_selection/_validation.py:536: FitFailedWarning: Estimator fit failed. The score on this train-test partition for these parameters will be set to nan. Details: \n",
            "ValueError: the init parameter for the k-means should be 'k-means++' or 'random' or an ndarray, '‘random’' (type '<class 'str'>') was passed.\n",
            "\n",
            "  FitFailedWarning)\n",
            "/usr/local/lib/python3.6/dist-packages/sklearn/model_selection/_validation.py:536: FitFailedWarning: Estimator fit failed. The score on this train-test partition for these parameters will be set to nan. Details: \n",
            "ValueError: the init parameter for the k-means should be 'k-means++' or 'random' or an ndarray, '‘random’' (type '<class 'str'>') was passed.\n",
            "\n",
            "  FitFailedWarning)\n",
            "/usr/local/lib/python3.6/dist-packages/sklearn/model_selection/_validation.py:536: FitFailedWarning: Estimator fit failed. The score on this train-test partition for these parameters will be set to nan. Details: \n",
            "ValueError: the init parameter for the k-means should be 'k-means++' or 'random' or an ndarray, '‘random’' (type '<class 'str'>') was passed.\n",
            "\n",
            "  FitFailedWarning)\n",
            "/usr/local/lib/python3.6/dist-packages/sklearn/model_selection/_validation.py:536: FitFailedWarning: Estimator fit failed. The score on this train-test partition for these parameters will be set to nan. Details: \n",
            "ValueError: the init parameter for the k-means should be 'k-means++' or 'random' or an ndarray, '‘random’' (type '<class 'str'>') was passed.\n",
            "\n",
            "  FitFailedWarning)\n",
            "/usr/local/lib/python3.6/dist-packages/sklearn/model_selection/_validation.py:536: FitFailedWarning: Estimator fit failed. The score on this train-test partition for these parameters will be set to nan. Details: \n",
            "ValueError: the init parameter for the k-means should be 'k-means++' or 'random' or an ndarray, '‘random’' (type '<class 'str'>') was passed.\n",
            "\n",
            "  FitFailedWarning)\n",
            "/usr/local/lib/python3.6/dist-packages/sklearn/model_selection/_validation.py:536: FitFailedWarning: Estimator fit failed. The score on this train-test partition for these parameters will be set to nan. Details: \n",
            "ValueError: the init parameter for the k-means should be 'k-means++' or 'random' or an ndarray, '‘random’' (type '<class 'str'>') was passed.\n",
            "\n",
            "  FitFailedWarning)\n",
            "/usr/local/lib/python3.6/dist-packages/sklearn/model_selection/_validation.py:536: FitFailedWarning: Estimator fit failed. The score on this train-test partition for these parameters will be set to nan. Details: \n",
            "ValueError: the init parameter for the k-means should be 'k-means++' or 'random' or an ndarray, '‘random’' (type '<class 'str'>') was passed.\n",
            "\n",
            "  FitFailedWarning)\n",
            "/usr/local/lib/python3.6/dist-packages/sklearn/model_selection/_validation.py:536: FitFailedWarning: Estimator fit failed. The score on this train-test partition for these parameters will be set to nan. Details: \n",
            "ValueError: the init parameter for the k-means should be 'k-means++' or 'random' or an ndarray, '‘random’' (type '<class 'str'>') was passed.\n",
            "\n",
            "  FitFailedWarning)\n",
            "/usr/local/lib/python3.6/dist-packages/sklearn/model_selection/_validation.py:536: FitFailedWarning: Estimator fit failed. The score on this train-test partition for these parameters will be set to nan. Details: \n",
            "ValueError: the init parameter for the k-means should be 'k-means++' or 'random' or an ndarray, '‘random’' (type '<class 'str'>') was passed.\n",
            "\n",
            "  FitFailedWarning)\n"
          ],
          "name": "stderr"
        },
        {
          "output_type": "execute_result",
          "data": {
            "text/plain": [
              "GridSearchCV(cv=5, error_score=nan,\n",
              "             estimator=Pipeline(memory=None,\n",
              "                                steps=[('k_means',\n",
              "                                        KMeans(algorithm='auto', copy_x=True,\n",
              "                                               init='k-means++', max_iter=300,\n",
              "                                               n_clusters=8, n_init=10,\n",
              "                                               n_jobs=None,\n",
              "                                               precompute_distances='auto',\n",
              "                                               random_state=None, tol=0.0001,\n",
              "                                               verbose=0))],\n",
              "                                verbose=False),\n",
              "             iid='deprecated', n_jobs=None,\n",
              "             param_grid={'k_means__algorithm': ['auto', 'full', 'elkan'],\n",
              "                         'k_means__init': ['k-means++', '‘random’'],\n",
              "                         'k_means__precompute_distances': ['auto', True,\n",
              "                                                           False]},\n",
              "             pre_dispatch='2*n_jobs', refit=True, return_train_score=False,\n",
              "             scoring=None, verbose=0)"
            ]
          },
          "metadata": {
            "tags": []
          },
          "execution_count": 35
        }
      ]
    },
    {
      "cell_type": "code",
      "metadata": {
        "id": "XqQKjgj4Ry1l",
        "outputId": "e4a00534-bb05-4e48-b808-847033287f4b",
        "colab": {
          "base_uri": "https://localhost:8080/"
        }
      },
      "source": [
        "gs.best_estimator_"
      ],
      "execution_count": 36,
      "outputs": [
        {
          "output_type": "execute_result",
          "data": {
            "text/plain": [
              "Pipeline(memory=None,\n",
              "         steps=[('k_means',\n",
              "                 KMeans(algorithm='elkan', copy_x=True, init='k-means++',\n",
              "                        max_iter=300, n_clusters=8, n_init=10, n_jobs=None,\n",
              "                        precompute_distances='auto', random_state=None,\n",
              "                        tol=0.0001, verbose=0))],\n",
              "         verbose=False)"
            ]
          },
          "metadata": {
            "tags": []
          },
          "execution_count": 36
        }
      ]
    },
    {
      "cell_type": "markdown",
      "metadata": {
        "id": "6PYV7gvFMo3Z"
      },
      "source": [
        "## **Applying K-Means Clustering with best parameters determined.**"
      ]
    },
    {
      "cell_type": "code",
      "metadata": {
        "id": "TbwkZ38xqFpj",
        "outputId": "67116605-5c4c-47c0-af3a-2d204e35bcdd",
        "colab": {
          "base_uri": "https://localhost:8080/",
          "height": 410
        }
      },
      "source": [
        "kmeans = KMeans(algorithm='full', copy_x=True, init='k-means++',\n",
        "                        max_iter=300, n_clusters=8, n_init=10, n_jobs=None,\n",
        "                        precompute_distances=False, random_state=None,\n",
        "                        tol=0.0001, verbose=0 )\n",
        "kmeans.fit(batsmen_df[['Runs','Balls_played','Strike_Rate']])\n",
        "batsmen_df[\"cluster\"] = kmeans.labels_\n",
        "\n",
        "fig = plt.figure(figsize=(12,6))\n",
        "\n",
        "colors = [\"blue\", \"sienna\", \"limegreen\", \"red\", \"indigo\",'green','black','darkorange','cyan']\n",
        "\n",
        "for r in range(9):\n",
        "    clustered_Batsmen = batsmen_df[batsmen_df[\"cluster\"] == r]\n",
        "    plt.scatter(clustered_Batsmen[\"Strike_Rate\"], clustered_Batsmen[\"Runs\"], color=colors[r-1])\n",
        "    \n",
        "plt.title(\"IPL Batsmen\", fontsize=16)\n",
        "plt.xlabel(\"Strike Rate of the Batsmen\", fontsize=14)\n",
        "plt.ylabel(\"Runs scored by the Batsmen\", fontsize=14)\n",
        "    \n",
        "plt.show()"
      ],
      "execution_count": 37,
      "outputs": [
        {
          "output_type": "display_data",
          "data": {
            "image/png": "[encoded data removed]",
            "text/plain": [
              "<Figure size 864x432 with 1 Axes>"
            ]
          },
          "metadata": {
            "tags": []
          }
        }
      ]
    },
    {
      "cell_type": "markdown",
      "metadata": {
        "id": "9N0KKjtKNFr5"
      },
      "source": [
        "There are some outliers that are batsmen who have scored very less runs and have a very high strike rate."
      ]
    },
    {
      "cell_type": "code",
      "metadata": {
        "id": "sibgngXtSkak",
        "outputId": "9a706bc5-1f51-49e1-a7c8-e23ff2bc6cff",
        "colab": {
          "base_uri": "https://localhost:8080/",
          "height": 204
        }
      },
      "source": [
        "batsmen_df.head()"
      ],
      "execution_count": 46,
      "outputs": [
        {
          "output_type": "execute_result",
          "data": {
            "text/html": [
              "<div>\n",
              "<style scoped>\n",
              "    .dataframe tbody tr th:only-of-type {\n",
              "        vertical-align: middle;\n",
              "    }\n",
              "\n",
              "    .dataframe tbody tr th {\n",
              "        vertical-align: top;\n",
              "    }\n",
              "\n",
              "    .dataframe thead th {\n",
              "        text-align: right;\n",
              "    }\n",
              "</style>\n",
              "<table border=\"1\" class=\"dataframe\">\n",
              "  <thead>\n",
              "    <tr style=\"text-align: right;\">\n",
              "      <th></th>\n",
              "      <th>Player_Id</th>\n",
              "      <th>Runs</th>\n",
              "      <th>Balls_played</th>\n",
              "      <th>Strike_Rate</th>\n",
              "      <th>cluster</th>\n",
              "      <th>Player_Name</th>\n",
              "      <th>Batting_Hand</th>\n",
              "      <th>Bowling_Skill</th>\n",
              "      <th>Country</th>\n",
              "    </tr>\n",
              "  </thead>\n",
              "  <tbody>\n",
              "    <tr>\n",
              "      <th>0</th>\n",
              "      <td>1</td>\n",
              "      <td>1349.0</td>\n",
              "      <td>1326</td>\n",
              "      <td>101.73</td>\n",
              "      <td>3</td>\n",
              "      <td>SC Ganguly</td>\n",
              "      <td>Left_Hand</td>\n",
              "      <td>Right-arm medium</td>\n",
              "      <td>India</td>\n",
              "    </tr>\n",
              "    <tr>\n",
              "      <th>1</th>\n",
              "      <td>2</td>\n",
              "      <td>2435.0</td>\n",
              "      <td>1954</td>\n",
              "      <td>124.62</td>\n",
              "      <td>6</td>\n",
              "      <td>BB McCullum</td>\n",
              "      <td>Right_Hand</td>\n",
              "      <td>Right-arm medium</td>\n",
              "      <td>New Zealand</td>\n",
              "    </tr>\n",
              "    <tr>\n",
              "      <th>2</th>\n",
              "      <td>4</td>\n",
              "      <td>1322.0</td>\n",
              "      <td>1101</td>\n",
              "      <td>120.07</td>\n",
              "      <td>3</td>\n",
              "      <td>DJ Hussey</td>\n",
              "      <td>Right_Hand</td>\n",
              "      <td>Right-arm offbreak</td>\n",
              "      <td>Australia</td>\n",
              "    </tr>\n",
              "    <tr>\n",
              "      <th>3</th>\n",
              "      <td>6</td>\n",
              "      <td>2170.0</td>\n",
              "      <td>1918</td>\n",
              "      <td>113.14</td>\n",
              "      <td>6</td>\n",
              "      <td>R Dravid</td>\n",
              "      <td>Right_Hand</td>\n",
              "      <td>Right-arm offbreak</td>\n",
              "      <td>India</td>\n",
              "    </tr>\n",
              "    <tr>\n",
              "      <th>4</th>\n",
              "      <td>7</td>\n",
              "      <td>130.0</td>\n",
              "      <td>129</td>\n",
              "      <td>100.78</td>\n",
              "      <td>4</td>\n",
              "      <td>W Jaffer</td>\n",
              "      <td>Right_Hand</td>\n",
              "      <td>Right-arm offbreak</td>\n",
              "      <td>India</td>\n",
              "    </tr>\n",
              "  </tbody>\n",
              "</table>\n",
              "</div>"
            ],
            "text/plain": [
              "   Player_Id    Runs  ...       Bowling_Skill      Country\n",
              "0          1  1349.0  ...    Right-arm medium        India\n",
              "1          2  2435.0  ...    Right-arm medium  New Zealand\n",
              "2          4  1322.0  ...  Right-arm offbreak    Australia\n",
              "3          6  2170.0  ...  Right-arm offbreak        India\n",
              "4          7   130.0  ...  Right-arm offbreak        India\n",
              "\n",
              "[5 rows x 9 columns]"
            ]
          },
          "metadata": {
            "tags": []
          },
          "execution_count": 46
        }
      ]
    },
    {
      "cell_type": "markdown",
      "metadata": {
        "id": "k2hfmiB1OjhN"
      },
      "source": [
        "# **For this particular case the example we took for experimenting was Virat Kohli the captain of Team India. We will find the players who are in the same cluster and who can be his possible replacement.**"
      ]
    },
    {
      "cell_type": "code",
      "metadata": {
        "id": "o3tEpM5OjUxb",
        "outputId": "7518bf32-2e7d-4d06-b8df-9f21b10271b3",
        "colab": {
          "base_uri": "https://localhost:8080/",
          "height": 80
        }
      },
      "source": [
        "#Checking the cluster in which V Kohli belongs.\n",
        "batsmen_df[batsmen_df['Player_Name']== \"V Kohli\"]"
      ],
      "execution_count": 42,
      "outputs": [
        {
          "output_type": "execute_result",
          "data": {
            "text/html": [
              "<div>\n",
              "<style scoped>\n",
              "    .dataframe tbody tr th:only-of-type {\n",
              "        vertical-align: middle;\n",
              "    }\n",
              "\n",
              "    .dataframe tbody tr th {\n",
              "        vertical-align: top;\n",
              "    }\n",
              "\n",
              "    .dataframe thead th {\n",
              "        text-align: right;\n",
              "    }\n",
              "</style>\n",
              "<table border=\"1\" class=\"dataframe\">\n",
              "  <thead>\n",
              "    <tr style=\"text-align: right;\">\n",
              "      <th></th>\n",
              "      <th>Player_Id</th>\n",
              "      <th>Runs</th>\n",
              "      <th>Balls_played</th>\n",
              "      <th>Strike_Rate</th>\n",
              "      <th>cluster</th>\n",
              "      <th>Player_Name</th>\n",
              "      <th>Batting_Hand</th>\n",
              "      <th>Bowling_Skill</th>\n",
              "      <th>Country</th>\n",
              "    </tr>\n",
              "  </thead>\n",
              "  <tbody>\n",
              "    <tr>\n",
              "      <th>5</th>\n",
              "      <td>8</td>\n",
              "      <td>4105.0</td>\n",
              "      <td>3236</td>\n",
              "      <td>126.85</td>\n",
              "      <td>7</td>\n",
              "      <td>V Kohli</td>\n",
              "      <td>Right_Hand</td>\n",
              "      <td>Right-arm medium</td>\n",
              "      <td>India</td>\n",
              "    </tr>\n",
              "  </tbody>\n",
              "</table>\n",
              "</div>"
            ],
            "text/plain": [
              "   Player_Id    Runs  Balls_played  ...  Batting_Hand     Bowling_Skill Country\n",
              "5          8  4105.0          3236  ...    Right_Hand  Right-arm medium   India\n",
              "\n",
              "[1 rows x 9 columns]"
            ]
          },
          "metadata": {
            "tags": []
          },
          "execution_count": 42
        }
      ]
    },
    {
      "cell_type": "code",
      "metadata": {
        "id": "b_XO_hk_Y0bQ",
        "outputId": "1db16910-6318-4f05-f2ed-2ea57a6cc20f",
        "colab": {
          "base_uri": "https://localhost:8080/",
          "height": 173
        }
      },
      "source": [
        "#The players in the same cluster.\n",
        "batsmen_df[batsmen_df['cluster']==7 ]"
      ],
      "execution_count": 47,
      "outputs": [
        {
          "output_type": "execute_result",
          "data": {
            "text/html": [
              "<div>\n",
              "<style scoped>\n",
              "    .dataframe tbody tr th:only-of-type {\n",
              "        vertical-align: middle;\n",
              "    }\n",
              "\n",
              "    .dataframe tbody tr th {\n",
              "        vertical-align: top;\n",
              "    }\n",
              "\n",
              "    .dataframe thead th {\n",
              "        text-align: right;\n",
              "    }\n",
              "</style>\n",
              "<table border=\"1\" class=\"dataframe\">\n",
              "  <thead>\n",
              "    <tr style=\"text-align: right;\">\n",
              "      <th></th>\n",
              "      <th>Player_Id</th>\n",
              "      <th>Runs</th>\n",
              "      <th>Balls_played</th>\n",
              "      <th>Strike_Rate</th>\n",
              "      <th>cluster</th>\n",
              "      <th>Player_Name</th>\n",
              "      <th>Batting_Hand</th>\n",
              "      <th>Bowling_Skill</th>\n",
              "      <th>Country</th>\n",
              "    </tr>\n",
              "  </thead>\n",
              "  <tbody>\n",
              "    <tr>\n",
              "      <th>5</th>\n",
              "      <td>8</td>\n",
              "      <td>4105.0</td>\n",
              "      <td>3236</td>\n",
              "      <td>126.85</td>\n",
              "      <td>7</td>\n",
              "      <td>V Kohli</td>\n",
              "      <td>Right_Hand</td>\n",
              "      <td>Right-arm medium</td>\n",
              "      <td>India</td>\n",
              "    </tr>\n",
              "    <tr>\n",
              "      <th>15</th>\n",
              "      <td>21</td>\n",
              "      <td>4106.0</td>\n",
              "      <td>3059</td>\n",
              "      <td>134.23</td>\n",
              "      <td>7</td>\n",
              "      <td>SK Raina</td>\n",
              "      <td>Left_Hand</td>\n",
              "      <td>Right-arm offbreak</td>\n",
              "      <td>India</td>\n",
              "    </tr>\n",
              "    <tr>\n",
              "      <th>27</th>\n",
              "      <td>40</td>\n",
              "      <td>3634.0</td>\n",
              "      <td>3028</td>\n",
              "      <td>120.01</td>\n",
              "      <td>7</td>\n",
              "      <td>G Gambhir</td>\n",
              "      <td>Left_Hand</td>\n",
              "      <td>Legbreak</td>\n",
              "      <td>India</td>\n",
              "    </tr>\n",
              "    <tr>\n",
              "      <th>40</th>\n",
              "      <td>57</td>\n",
              "      <td>3874.0</td>\n",
              "      <td>2996</td>\n",
              "      <td>129.31</td>\n",
              "      <td>7</td>\n",
              "      <td>RG Sharma</td>\n",
              "      <td>Right_Hand</td>\n",
              "      <td>Right-arm offbreak</td>\n",
              "      <td>India</td>\n",
              "    </tr>\n",
              "  </tbody>\n",
              "</table>\n",
              "</div>"
            ],
            "text/plain": [
              "    Player_Id    Runs  Balls_played  ...  Batting_Hand       Bowling_Skill Country\n",
              "5           8  4105.0          3236  ...    Right_Hand    Right-arm medium   India\n",
              "15         21  4106.0          3059  ...     Left_Hand  Right-arm offbreak   India\n",
              "27         40  3634.0          3028  ...     Left_Hand            Legbreak   India\n",
              "40         57  3874.0          2996  ...    Right_Hand  Right-arm offbreak   India\n",
              "\n",
              "[4 rows x 9 columns]"
            ]
          },
          "metadata": {
            "tags": []
          },
          "execution_count": 47
        }
      ]
    },
    {
      "cell_type": "markdown",
      "metadata": {
        "id": "eZzr-MS28_8_"
      },
      "source": [
        "# **Conclusion:**\n",
        "\n",
        "In the following project we can conclude that from the results that Rohit Sharma, Gautam Gambhir and Suresh Raina are the possible replacements for an un-fit Virat Kohli in this case at the next auction. "
      ]
    },
    {
      "cell_type": "markdown",
      "metadata": {
        "id": "ya3y6CN-96SX"
      },
      "source": [
        "# **Limitations and Future Works:**\n",
        "\n",
        "The limitations in this project is that there are alot of other factors that have not been taken into consideration which are playing order of the batsmen, partnerships, grounds on which these matches have been played etc. \n",
        "\n",
        "The future work for this project is to explore the statistics of these batsmen performances on different venues and facing different bowlers. \n",
        "We have only used K-means clustering algorithm but we can use other unsupervised learning algorithms to see how they perform. "
      ]
    }
  ]
}